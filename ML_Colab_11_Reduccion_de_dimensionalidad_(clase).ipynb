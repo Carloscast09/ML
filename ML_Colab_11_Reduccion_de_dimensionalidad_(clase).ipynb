{
  "cells": [
    {
      "cell_type": "markdown",
      "metadata": {
        "id": "ppQOw8w6veyM"
      },
      "source": [
        "## Reducción de dimensionalidad"
      ]
    },
    {
      "cell_type": "markdown",
      "metadata": {
        "id": "VQ_l9ZV-4Bcy"
      },
      "source": [
        "### Librerías"
      ]
    },
    {
      "cell_type": "code",
      "execution_count": 2,
      "metadata": {
        "id": "PI_YdXJ6wmn3"
      },
      "outputs": [],
      "source": [
        "# Librerías\n",
        "\n",
        "import time\n",
        "import pandas as pd\n",
        "import numpy as np\n",
        "import seaborn as sns\n",
        "import matplotlib.pyplot as plt\n",
        "\n",
        "from sklearn.preprocessing import StandardScaler # Pre-procesamiento\n",
        "from sklearn.compose import make_column_transformer # Pre-procesamiento\n",
        "\n",
        "from sklearn.decomposition import PCA # Reducción de dimensionalidad\n",
        "\n",
        "from sklearn.model_selection import train_test_split # Dividir datos\n",
        "\n",
        "from sklearn.neighbors import KNeighborsClassifier # <----- CLASIFICACION\n",
        "from sklearn.linear_model import LogisticRegression\n",
        "from sklearn.tree import DecisionTreeClassifier\n",
        "\n",
        "from sklearn.metrics import accuracy_score # <----- EVALUACION"
      ]
    },
    {
      "cell_type": "code",
      "execution_count": 3,
      "metadata": {
        "id": "1RrP9uqJNAop"
      },
      "outputs": [],
      "source": [
        "# Resultados reproducibles\n",
        "np.random.seed(42)"
      ]
    },
    {
      "cell_type": "code",
      "execution_count": 4,
      "metadata": {
        "id": "kcHPJbgHwwlb"
      },
      "outputs": [],
      "source": [
        "# Ignorar warnings\n",
        "import warnings\n",
        "warnings.filterwarnings('ignore')\n",
        "\n",
        "sns.set_theme(style='darkgrid', palette='Set2')"
      ]
    },
    {
      "cell_type": "markdown",
      "metadata": {
        "id": "cGTJSM_YuFrg"
      },
      "source": [
        "### Conjunto de datos"
      ]
    },
    {
      "cell_type": "markdown",
      "metadata": {
        "id": "UiW4yWPMviIa"
      },
      "source": [
        "![Wisconsin](https://drive.google.com/uc?id=1PBIR38kvcsCpclGpqUrPRm8bNM2emSgo)"
      ]
    },
    {
      "cell_type": "markdown",
      "metadata": {
        "id": "TK2Gny2XxNU5"
      },
      "source": [
        "Conjunto de datos relacionado con la predicción del cancer, a partir de 30 atributos numéricos."
      ]
    },
    {
      "cell_type": "code",
      "execution_count": 5,
      "metadata": {
        "id": "baDFpXfnvqN5"
      },
      "outputs": [
        {
          "data": {
            "text/html": [
              "<div>\n",
              "<style scoped>\n",
              "    .dataframe tbody tr th:only-of-type {\n",
              "        vertical-align: middle;\n",
              "    }\n",
              "\n",
              "    .dataframe tbody tr th {\n",
              "        vertical-align: top;\n",
              "    }\n",
              "\n",
              "    .dataframe thead th {\n",
              "        text-align: right;\n",
              "    }\n",
              "</style>\n",
              "<table border=\"1\" class=\"dataframe\">\n",
              "  <thead>\n",
              "    <tr style=\"text-align: right;\">\n",
              "      <th></th>\n",
              "      <th>radius_mean</th>\n",
              "      <th>texture_mean</th>\n",
              "      <th>perimeter_mean</th>\n",
              "      <th>area_mean</th>\n",
              "      <th>smoothness_mean</th>\n",
              "      <th>compactness_mean</th>\n",
              "      <th>concavity_mean</th>\n",
              "      <th>concave points_mean</th>\n",
              "      <th>symmetry_mean</th>\n",
              "      <th>fractal_dimension_mean</th>\n",
              "      <th>...</th>\n",
              "      <th>texture_worst</th>\n",
              "      <th>perimeter_worst</th>\n",
              "      <th>area_worst</th>\n",
              "      <th>smoothness_worst</th>\n",
              "      <th>compactness_worst</th>\n",
              "      <th>concavity_worst</th>\n",
              "      <th>concave points_worst</th>\n",
              "      <th>symmetry_worst</th>\n",
              "      <th>fractal_dimension_worst</th>\n",
              "      <th>diagnosis</th>\n",
              "    </tr>\n",
              "  </thead>\n",
              "  <tbody>\n",
              "    <tr>\n",
              "      <th>0</th>\n",
              "      <td>17.99</td>\n",
              "      <td>10.38</td>\n",
              "      <td>122.80</td>\n",
              "      <td>1001.0</td>\n",
              "      <td>0.11840</td>\n",
              "      <td>0.27760</td>\n",
              "      <td>0.3001</td>\n",
              "      <td>0.14710</td>\n",
              "      <td>0.2419</td>\n",
              "      <td>0.07871</td>\n",
              "      <td>...</td>\n",
              "      <td>17.33</td>\n",
              "      <td>184.60</td>\n",
              "      <td>2019.0</td>\n",
              "      <td>0.1622</td>\n",
              "      <td>0.6656</td>\n",
              "      <td>0.7119</td>\n",
              "      <td>0.2654</td>\n",
              "      <td>0.4601</td>\n",
              "      <td>0.11890</td>\n",
              "      <td>Maligno</td>\n",
              "    </tr>\n",
              "    <tr>\n",
              "      <th>1</th>\n",
              "      <td>20.57</td>\n",
              "      <td>17.77</td>\n",
              "      <td>132.90</td>\n",
              "      <td>1326.0</td>\n",
              "      <td>0.08474</td>\n",
              "      <td>0.07864</td>\n",
              "      <td>0.0869</td>\n",
              "      <td>0.07017</td>\n",
              "      <td>0.1812</td>\n",
              "      <td>0.05667</td>\n",
              "      <td>...</td>\n",
              "      <td>23.41</td>\n",
              "      <td>158.80</td>\n",
              "      <td>1956.0</td>\n",
              "      <td>0.1238</td>\n",
              "      <td>0.1866</td>\n",
              "      <td>0.2416</td>\n",
              "      <td>0.1860</td>\n",
              "      <td>0.2750</td>\n",
              "      <td>0.08902</td>\n",
              "      <td>Maligno</td>\n",
              "    </tr>\n",
              "    <tr>\n",
              "      <th>2</th>\n",
              "      <td>19.69</td>\n",
              "      <td>21.25</td>\n",
              "      <td>130.00</td>\n",
              "      <td>1203.0</td>\n",
              "      <td>0.10960</td>\n",
              "      <td>0.15990</td>\n",
              "      <td>0.1974</td>\n",
              "      <td>0.12790</td>\n",
              "      <td>0.2069</td>\n",
              "      <td>0.05999</td>\n",
              "      <td>...</td>\n",
              "      <td>25.53</td>\n",
              "      <td>152.50</td>\n",
              "      <td>1709.0</td>\n",
              "      <td>0.1444</td>\n",
              "      <td>0.4245</td>\n",
              "      <td>0.4504</td>\n",
              "      <td>0.2430</td>\n",
              "      <td>0.3613</td>\n",
              "      <td>0.08758</td>\n",
              "      <td>Maligno</td>\n",
              "    </tr>\n",
              "    <tr>\n",
              "      <th>3</th>\n",
              "      <td>11.42</td>\n",
              "      <td>20.38</td>\n",
              "      <td>77.58</td>\n",
              "      <td>386.1</td>\n",
              "      <td>0.14250</td>\n",
              "      <td>0.28390</td>\n",
              "      <td>0.2414</td>\n",
              "      <td>0.10520</td>\n",
              "      <td>0.2597</td>\n",
              "      <td>0.09744</td>\n",
              "      <td>...</td>\n",
              "      <td>26.50</td>\n",
              "      <td>98.87</td>\n",
              "      <td>567.7</td>\n",
              "      <td>0.2098</td>\n",
              "      <td>0.8663</td>\n",
              "      <td>0.6869</td>\n",
              "      <td>0.2575</td>\n",
              "      <td>0.6638</td>\n",
              "      <td>0.17300</td>\n",
              "      <td>Maligno</td>\n",
              "    </tr>\n",
              "    <tr>\n",
              "      <th>4</th>\n",
              "      <td>20.29</td>\n",
              "      <td>14.34</td>\n",
              "      <td>135.10</td>\n",
              "      <td>1297.0</td>\n",
              "      <td>0.10030</td>\n",
              "      <td>0.13280</td>\n",
              "      <td>0.1980</td>\n",
              "      <td>0.10430</td>\n",
              "      <td>0.1809</td>\n",
              "      <td>0.05883</td>\n",
              "      <td>...</td>\n",
              "      <td>16.67</td>\n",
              "      <td>152.20</td>\n",
              "      <td>1575.0</td>\n",
              "      <td>0.1374</td>\n",
              "      <td>0.2050</td>\n",
              "      <td>0.4000</td>\n",
              "      <td>0.1625</td>\n",
              "      <td>0.2364</td>\n",
              "      <td>0.07678</td>\n",
              "      <td>Maligno</td>\n",
              "    </tr>\n",
              "  </tbody>\n",
              "</table>\n",
              "<p>5 rows × 31 columns</p>\n",
              "</div>"
            ],
            "text/plain": [
              "   radius_mean  texture_mean  perimeter_mean  area_mean  smoothness_mean  \\\n",
              "0        17.99         10.38          122.80     1001.0          0.11840   \n",
              "1        20.57         17.77          132.90     1326.0          0.08474   \n",
              "2        19.69         21.25          130.00     1203.0          0.10960   \n",
              "3        11.42         20.38           77.58      386.1          0.14250   \n",
              "4        20.29         14.34          135.10     1297.0          0.10030   \n",
              "\n",
              "   compactness_mean  concavity_mean  concave points_mean  symmetry_mean  \\\n",
              "0           0.27760          0.3001              0.14710         0.2419   \n",
              "1           0.07864          0.0869              0.07017         0.1812   \n",
              "2           0.15990          0.1974              0.12790         0.2069   \n",
              "3           0.28390          0.2414              0.10520         0.2597   \n",
              "4           0.13280          0.1980              0.10430         0.1809   \n",
              "\n",
              "   fractal_dimension_mean  ...  texture_worst  perimeter_worst  area_worst  \\\n",
              "0                 0.07871  ...          17.33           184.60      2019.0   \n",
              "1                 0.05667  ...          23.41           158.80      1956.0   \n",
              "2                 0.05999  ...          25.53           152.50      1709.0   \n",
              "3                 0.09744  ...          26.50            98.87       567.7   \n",
              "4                 0.05883  ...          16.67           152.20      1575.0   \n",
              "\n",
              "   smoothness_worst  compactness_worst  concavity_worst  concave points_worst  \\\n",
              "0            0.1622             0.6656           0.7119                0.2654   \n",
              "1            0.1238             0.1866           0.2416                0.1860   \n",
              "2            0.1444             0.4245           0.4504                0.2430   \n",
              "3            0.2098             0.8663           0.6869                0.2575   \n",
              "4            0.1374             0.2050           0.4000                0.1625   \n",
              "\n",
              "   symmetry_worst  fractal_dimension_worst  diagnosis  \n",
              "0          0.4601                  0.11890    Maligno  \n",
              "1          0.2750                  0.08902    Maligno  \n",
              "2          0.3613                  0.08758    Maligno  \n",
              "3          0.6638                  0.17300    Maligno  \n",
              "4          0.2364                  0.07678    Maligno  \n",
              "\n",
              "[5 rows x 31 columns]"
            ]
          },
          "execution_count": 5,
          "metadata": {},
          "output_type": "execute_result"
        }
      ],
      "source": [
        "df = pd.read_csv('https://raw.githubusercontent.com/miryamelizabeth/datasets/main/Datasets%20ML/breast_cancer_wisconsin.csv')\n",
        "df.head()"
      ]
    },
    {
      "cell_type": "code",
      "execution_count": 6,
      "metadata": {
        "id": "S96SAafSM-zT"
      },
      "outputs": [
        {
          "data": {
            "text/plain": [
              "(569, 31)"
            ]
          },
          "execution_count": 6,
          "metadata": {},
          "output_type": "execute_result"
        }
      ],
      "source": [
        "# Dimensiones del conjunto de datos\n",
        "df.shape"
      ]
    },
    {
      "cell_type": "markdown",
      "metadata": {
        "id": "_q-FvVFtYQh6"
      },
      "source": [
        "### Visualización"
      ]
    },
    {
      "cell_type": "code",
      "execution_count": 7,
      "metadata": {
        "id": "on3YvnsFYXyb"
      },
      "outputs": [],
      "source": [
        "# Separamos predictores (X) de la clase (y)\n",
        "X = df.drop(['diagnosis'], axis=1)\n",
        "y = df['diagnosis']"
      ]
    },
    {
      "cell_type": "code",
      "execution_count": 8,
      "metadata": {
        "id": "Eg1QvcaAYP0c"
      },
      "outputs": [],
      "source": [
        "# TODAS las columnas numéricas se guardan en una lista\n",
        "num_cols = ['radius_mean', 'texture_mean', 'perimeter_mean', 'area_mean',\n",
        "       'smoothness_mean', 'compactness_mean', 'concavity_mean',\n",
        "       'concave points_mean', 'symmetry_mean', 'fractal_dimension_mean',\n",
        "       'radius_se', 'texture_se', 'perimeter_se', 'area_se', 'smoothness_se',\n",
        "       'compactness_se', 'concavity_se', 'concave points_se', 'symmetry_se',\n",
        "       'fractal_dimension_se', 'radius_worst', 'texture_worst',\n",
        "       'perimeter_worst', 'area_worst', 'smoothness_worst',\n",
        "       'compactness_worst', 'concavity_worst', 'concave points_worst',\n",
        "       'symmetry_worst', 'fractal_dimension_worst']\n",
        "\n",
        "\n",
        "# Creamos el transformer, le indicamos el objeto y las columnas y ajustamos\n",
        "transformer = make_column_transformer( (StandardScaler(), num_cols) )\n",
        "transformer.fit(X)\n",
        "\n",
        "# Transforma los datos\n",
        "X = transformer.transform(X)"
      ]
    },
    {
      "cell_type": "markdown",
      "metadata": {
        "id": "wJ-v74qkNGIl"
      },
      "source": [
        "Después de transformar los datos, procedemos a aplicar PCA. Es decir, obtenener los componetes principales y re-dimensionamos el conjunto de datos."
      ]
    },
    {
      "cell_type": "code",
      "execution_count": 9,
      "metadata": {
        "id": "EWfFq7OHyjR8"
      },
      "outputs": [],
      "source": [
        "# Creamos objeto PCA, enviamos el número de componentes a obtener (número de atributos/dimensiones)\n",
        "pca = PCA(n_components=2)\n",
        "pca.fit(X)\n",
        "\n",
        "# Convertimos nuestros datos con las nuevas dimensiones de PCA\n",
        "X = pca.transform(X)"
      ]
    },
    {
      "cell_type": "markdown",
      "metadata": {
        "id": "lyz2M7A3NI8z"
      },
      "source": [
        "Creamos un DataFrame con el conjunto transformado."
      ]
    },
    {
      "cell_type": "code",
      "execution_count": 10,
      "metadata": {
        "id": "WhqDeNxDyjFZ"
      },
      "outputs": [
        {
          "data": {
            "text/html": [
              "<div>\n",
              "<style scoped>\n",
              "    .dataframe tbody tr th:only-of-type {\n",
              "        vertical-align: middle;\n",
              "    }\n",
              "\n",
              "    .dataframe tbody tr th {\n",
              "        vertical-align: top;\n",
              "    }\n",
              "\n",
              "    .dataframe thead th {\n",
              "        text-align: right;\n",
              "    }\n",
              "</style>\n",
              "<table border=\"1\" class=\"dataframe\">\n",
              "  <thead>\n",
              "    <tr style=\"text-align: right;\">\n",
              "      <th></th>\n",
              "      <th>PC1</th>\n",
              "      <th>PC2</th>\n",
              "      <th>class</th>\n",
              "    </tr>\n",
              "  </thead>\n",
              "  <tbody>\n",
              "    <tr>\n",
              "      <th>0</th>\n",
              "      <td>9.192837</td>\n",
              "      <td>1.948583</td>\n",
              "      <td>Maligno</td>\n",
              "    </tr>\n",
              "    <tr>\n",
              "      <th>1</th>\n",
              "      <td>2.387802</td>\n",
              "      <td>-3.768172</td>\n",
              "      <td>Maligno</td>\n",
              "    </tr>\n",
              "    <tr>\n",
              "      <th>2</th>\n",
              "      <td>5.733896</td>\n",
              "      <td>-1.075174</td>\n",
              "      <td>Maligno</td>\n",
              "    </tr>\n",
              "    <tr>\n",
              "      <th>3</th>\n",
              "      <td>7.122953</td>\n",
              "      <td>10.275589</td>\n",
              "      <td>Maligno</td>\n",
              "    </tr>\n",
              "    <tr>\n",
              "      <th>4</th>\n",
              "      <td>3.935302</td>\n",
              "      <td>-1.948072</td>\n",
              "      <td>Maligno</td>\n",
              "    </tr>\n",
              "  </tbody>\n",
              "</table>\n",
              "</div>"
            ],
            "text/plain": [
              "        PC1        PC2    class\n",
              "0  9.192837   1.948583  Maligno\n",
              "1  2.387802  -3.768172  Maligno\n",
              "2  5.733896  -1.075174  Maligno\n",
              "3  7.122953  10.275589  Maligno\n",
              "4  3.935302  -1.948072  Maligno"
            ]
          },
          "execution_count": 10,
          "metadata": {},
          "output_type": "execute_result"
        }
      ],
      "source": [
        "df_pca = pd.DataFrame(data=X, columns=['PC1', 'PC2'])\n",
        "df_pca['class'] = y\n",
        "df_pca.head()"
      ]
    },
    {
      "cell_type": "markdown",
      "metadata": {
        "id": "OYzkazTDzy-E"
      },
      "source": [
        "**`explained_variance_ratio_`**\n",
        "\n",
        "Proporciona la cantidad de información que tiene cada componente principal después de proyectar los datos a un sub-espacio de menor dimensión.\n",
        "\n",
        "Los resultados obtenidos:\n",
        "* El componente principal 1 contiene el 44.2% de la información, mientras que el componente principal 2 sólo contiene el 18.9% de la información.\n",
        "* Al proyectar los datos a sólo dos dimensiones (originalmente tenía 30), se perdió sólo 36.8% de información."
      ]
    },
    {
      "cell_type": "code",
      "execution_count": 11,
      "metadata": {
        "id": "hkBmn42lzf4g"
      },
      "outputs": [
        {
          "name": "stdout",
          "output_type": "stream",
          "text": [
            "Variabilidad explicada por componente principal: [0.44272026 0.18971182]\n",
            "\n",
            "Variabilidad explicada acumulada: 0.632\n"
          ]
        }
      ],
      "source": [
        "variance = pca.explained_variance_ratio_ \n",
        "sum_variance = sum(variance)\n",
        "\n",
        "print(f'Variabilidad explicada por componente principal: {variance}\\n')\n",
        "print(f'Variabilidad explicada acumulada: {sum_variance:.3f}')"
      ]
    },
    {
      "cell_type": "markdown",
      "metadata": {
        "id": "_2VGOsKezvi6"
      },
      "source": [
        "Graficamos las 569 muestras a lo largo del eje del componente principal 1 y del componente principal 2. Esto dará una buena idea de cómo se distribuyen las muestras entre las dos clases."
      ]
    },
    {
      "cell_type": "code",
      "execution_count": 12,
      "metadata": {
        "id": "IftGcxP90wTc"
      },
      "outputs": [
        {
          "data": {
            "image/png": "[encoded data removed]",
            "text/plain": [
              "<Figure size 432x288 with 1 Axes>"
            ]
          },
          "metadata": {},
          "output_type": "display_data"
        }
      ],
      "source": [
        "sns.scatterplot(x='PC1', y='PC2', hue='class', data=df_pca)\n",
        "plt.show()"
      ]
    },
    {
      "cell_type": "markdown",
      "metadata": {
        "id": "v2UqEnK23IXH"
      },
      "source": [
        "### Training set (speed up and improvement)"
      ]
    },
    {
      "cell_type": "code",
      "execution_count": 13,
      "metadata": {
        "id": "Wfm0l4oZ3mFo"
      },
      "outputs": [],
      "source": [
        "# Separamos predictores (X) de la clase (y)\n",
        "X = df.drop(['diagnosis'], axis=1)\n",
        "y = df['diagnosis']"
      ]
    },
    {
      "cell_type": "code",
      "execution_count": 14,
      "metadata": {
        "id": "2AB_DW0o3pwz"
      },
      "outputs": [],
      "source": [
        "# Creamos conjunto de entrenamiento y prueba (80-20)\n",
        "X_train, X_test, y_train, y_test = train_test_split(X, y, test_size=0.2)"
      ]
    },
    {
      "cell_type": "code",
      "execution_count": 15,
      "metadata": {
        "id": "qfrkDuFq3mFp"
      },
      "outputs": [],
      "source": [
        "# TODAS las columnas numéricas se guardan en una lista\n",
        "num_cols = ['radius_mean', 'texture_mean', 'perimeter_mean', 'area_mean',\n",
        "       'smoothness_mean', 'compactness_mean', 'concavity_mean',\n",
        "       'concave points_mean', 'symmetry_mean', 'fractal_dimension_mean',\n",
        "       'radius_se', 'texture_se', 'perimeter_se', 'area_se', 'smoothness_se',\n",
        "       'compactness_se', 'concavity_se', 'concave points_se', 'symmetry_se',\n",
        "       'fractal_dimension_se', 'radius_worst', 'texture_worst',\n",
        "       'perimeter_worst', 'area_worst', 'smoothness_worst',\n",
        "       'compactness_worst', 'concavity_worst', 'concave points_worst',\n",
        "       'symmetry_worst', 'fractal_dimension_worst']\n",
        "\n",
        "\n",
        "# Creamos el transformer, le indicamos el objeto y las columnas y ajustamos\n",
        "transformer = make_column_transformer( (StandardScaler(), num_cols) )\n",
        "transformer.fit(X_train)\n",
        "\n",
        "\n",
        "# Transforma los datos de entrenamiento y prueba\n",
        "X_train = transformer.transform(X_train)\n",
        "X_test = transformer.transform(X_test)"
      ]
    },
    {
      "cell_type": "code",
      "execution_count": 16,
      "metadata": {
        "cellView": "form",
        "id": "pe6IdHQS7JbP"
      },
      "outputs": [
        {
          "name": "stdout",
          "output_type": "stream",
          "text": [
            "------ Logistic Regression ------\n",
            "Test accuracy = 98.25 %\n",
            "Tiempo: 0.002 seconds\n",
            "\n",
            "------ DT ------\n",
            "Test accuracy = 92.11 %\n",
            "Tiempo: 0.007 seconds\n",
            "\n",
            "------ KNN ------\n",
            "Test accuracy = 95.61 %\n",
            "Tiempo: 0.005 seconds\n",
            "\n"
          ]
        }
      ],
      "source": [
        "#@title Modelos entrenados antes de PCA\n",
        "classification_models = {'Logistic Regression': LogisticRegression(solver='liblinear'),\n",
        "                         'DT': DecisionTreeClassifier(),\n",
        "                         'KNN': KNeighborsClassifier()\n",
        "                         }\n",
        "\n",
        "for name, model in classification_models.items():\n",
        "    \n",
        "    print(f'------ {name} ------')\n",
        "    \n",
        "    start_time = time.time()\n",
        "    model.fit(X_train, y_train)\n",
        "    y_pred = model.predict(X_test)\n",
        "\n",
        "    accuracy = accuracy_score(y_test, y_pred) * 100\n",
        "    \n",
        "    print(f'Test accuracy = {accuracy:.2f} %')\n",
        "    print(f'Tiempo: {time.time() - start_time:.3f} seconds\\n')"
      ]
    },
    {
      "cell_type": "markdown",
      "metadata": {
        "id": "g3Mjjv3t6G_E"
      },
      "source": [
        "Pasemos 0.9 como parámetro al modelo PCA, lo que significa que PCA retendrá el 90% de la varianza y se utilizará el número de componentes necesarios para capturar el 90% de la varianza.\n",
        "\n",
        "En el ejemplo anterior se utilizó `n_componentes` como parámetro y entonces obtuvimos cuánta varianza fue capturada por esos componentes. En este caso, **mencionamos explícitamente cuánta varianza queremos que capture PCA**, por lo tanto, el número de componentes variarán en función del parámetro de varianza."
      ]
    },
    {
      "cell_type": "code",
      "execution_count": 17,
      "metadata": {
        "id": "SQe1_EeAz0T1"
      },
      "outputs": [],
      "source": [
        "# Creamos objeto PCA, enviamos un mínimo \"explicado\" (de este valor dependerá el número de atributos que se obtengan)\n",
        "pca = PCA(n_components=0.90)\n",
        "pca.fit(X_train)\n",
        "\n",
        "# Convertimos nuestros datos de entrenamiento y prueba con las nuevas dimensiones de PCA\n",
        "X_train = pca.transform(X_train)\n",
        "X_test = pca.transform(X_test)"
      ]
    },
    {
      "cell_type": "code",
      "execution_count": 18,
      "metadata": {
        "id": "r2iK7zK547a3"
      },
      "outputs": [
        {
          "name": "stdout",
          "output_type": "stream",
          "text": [
            "Variabilidad explicada por componente principal: [0.44626751 0.18679243 0.0925651  0.06796232 0.055718   0.03897496\n",
            " 0.02354835]\n",
            "\n",
            "Variabilidad explicada acumulada: 0.912\n",
            "\n",
            "Número de componentes obtenidos: 7\n"
          ]
        }
      ],
      "source": [
        "variance = pca.explained_variance_ratio_\n",
        "sum_variance = sum(variance)\n",
        "num_components = pca.n_components_\n",
        "\n",
        "print(f'Variabilidad explicada por componente principal: {variance}\\n')\n",
        "print(f'Variabilidad explicada acumulada: {sum_variance:.3f}\\n')\n",
        "print(f'Número de componentes obtenidos: {num_components}')"
      ]
    },
    {
      "cell_type": "code",
      "execution_count": 19,
      "metadata": {
        "cellView": "form",
        "id": "nPYmPdV75E2S"
      },
      "outputs": [
        {
          "data": {
            "image/png": "[encoded data removed]",
            "text/plain": [
              "<Figure size 432x288 with 1 Axes>"
            ]
          },
          "metadata": {},
          "output_type": "display_data"
        }
      ],
      "source": [
        "#@title Gráfica del acumulado de varianza explicada en las nuevas dimensiones\n",
        "plt.plot(range(1, pca.n_components_ + 1), np.cumsum(pca.explained_variance_ratio_))\n",
        "plt.xlabel('Número de componentes')\n",
        "plt.ylabel('Variabilidad explicada acumulada')\n",
        "plt.show()"
      ]
    },
    {
      "cell_type": "markdown",
      "metadata": {
        "id": "LEIVGDsWPc0z"
      },
      "source": [
        "Creamos nuestros modelos de clasificación, con el conjunto de datos redimensionado."
      ]
    },
    {
      "cell_type": "code",
      "execution_count": 20,
      "metadata": {
        "id": "2drvKH74Tgv_"
      },
      "outputs": [
        {
          "name": "stdout",
          "output_type": "stream",
          "text": [
            "------ Logistic Regression ------\n",
            "Test accuracy = 95.61 %\n",
            "Tiempo: 0.002 seconds\n",
            "\n",
            "------ DT ------\n",
            "Test accuracy = 91.23 %\n",
            "Tiempo: 0.002 seconds\n",
            "\n",
            "------ KNN ------\n",
            "Test accuracy = 95.61 %\n",
            "Tiempo: 0.004 seconds\n",
            "\n"
          ]
        }
      ],
      "source": [
        "classification_models = {'Logistic Regression': LogisticRegression(solver='liblinear'),\n",
        "                         'DT': DecisionTreeClassifier(),\n",
        "                         'KNN': KNeighborsClassifier()\n",
        "                         }\n",
        "\n",
        "for name, model in classification_models.items():\n",
        "    \n",
        "    print(f'------ {name} ------')\n",
        "    \n",
        "    start_time = time.time()\n",
        "\n",
        "    model.fit(X_train, y_train)\n",
        "    y_pred = model.predict(X_test)\n",
        "\n",
        "    accuracy = accuracy_score(y_test, y_pred) * 100\n",
        "    \n",
        "    print(f'Test accuracy = {accuracy:.2f} %')\n",
        "    print(f'Tiempo: {time.time() - start_time:.3f} seconds\\n')"
      ]
    },
    {
      "cell_type": "markdown",
      "metadata": {
        "id": "KcHAkGVbQCXX"
      },
      "source": [
        "\n",
        "---\n",
        "\n",
        "\n",
        "📝 **Referencias**\n",
        "\n",
        "*Dataset obtenido de Kaggle repository:* [Breast Cancer Wisconsin dataset](https://www.kaggle.com/datasets/uciml/breast-cancer-wisconsin-data)"
      ]
    }
  ],
  "metadata": {
    "colab": {
      "provenance": []
    },
    "kernelspec": {
      "display_name": "Python 3.9.7 ('base')",
      "language": "python",
      "name": "python3"
    },
    "language_info": {
      "codemirror_mode": {
        "name": "ipython",
        "version": 3
      },
      "file_extension": ".py",
      "mimetype": "text/x-python",
      "name": "python",
      "nbconvert_exporter": "python",
      "pygments_lexer": "ipython3",
      "version": "3.9.7"
    },
    "vscode": {
      "interpreter": {
        "hash": "e4983ef1541e43841f9e934630005c5670a77666a511d6fa2b0487a6871a7991"
      }
    }
  },
  "nbformat": 4,
  "nbformat_minor": 0
}
