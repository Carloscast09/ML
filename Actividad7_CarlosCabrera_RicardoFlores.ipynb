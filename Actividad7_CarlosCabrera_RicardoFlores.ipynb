{
  "cells": [
    {
      "cell_type": "markdown",
      "metadata": {
        "id": "lXuFifIMhrsb"
      },
      "source": [
        "# Actividad: Aprendizaje no supervisado"
      ]
    },
    {
      "cell_type": "markdown",
      "metadata": {
        "id": "fs3BSdoiKpWE"
      },
      "source": [
        "**Instrucciones:**\n",
        "\n",
        "1. Agrega la información personal del equipo en el espacio correspondiente.\n",
        "\n",
        "2. Todas las librerías que vas a necesitar ya se encuentran definidas, sigue las instrucciones de lo que se te pide.\n",
        "\n",
        "3. Ve ejecutando celda por celda.\n",
        "\n",
        "4. Al finalizar, descarga el notebook obtenido (.ipynb) y súbelo en el espacio correspondiente (**sólo uno por equipo**). Se recomienda ejecutar el comando `Entorno de ejecución > Reiniciar y ejecutar todo` para verificar que no haya errores."
      ]
    },
    {
      "cell_type": "markdown",
      "metadata": {
        "id": "0WXB3MQoK-S8"
      },
      "source": [
        "**Información del Equipo:**\n",
        "\n",
        "* *Carlos Cabrera Castrejon*\n",
        "* *Ricardo Flores Peregrina*"
      ]
    },
    {
      "cell_type": "code",
      "execution_count": 3,
      "metadata": {
        "cellView": "form",
        "id": "I8zk5tn2067Y"
      },
      "outputs": [],
      "source": [
        "#@title Librerías\n",
        "import pandas as pd\n",
        "import numpy as np\n",
        "import seaborn as sns\n",
        "import matplotlib.pyplot as plt\n",
        "import warnings\n",
        "\n",
        "from sklearn.compose import make_column_transformer # Pre-procesamiento\n",
        "from sklearn.preprocessing import MinMaxScaler, StandardScaler # Pre-procesamiento\n",
        "from sklearn.decomposition import PCA # Reducción dimensionalidad\n",
        "\n",
        "from sklearn.model_selection import train_test_split # Dividir datos\n",
        "\n",
        "from sklearn.neighbors import KNeighborsClassifier # <----- CLASIFICACION\n",
        "from sklearn.linear_model import LogisticRegression\n",
        "from sklearn.tree import DecisionTreeClassifier\n",
        "\n",
        "from sklearn.cluster import KMeans # <----- CLUSTERING\n",
        "\n",
        "from sklearn.metrics import accuracy_score, ConfusionMatrixDisplay # <----- EVALUACION\n",
        "\n",
        "# Resultados reproducibles\n",
        "np.random.seed(42)\n",
        "\n",
        "# Ignorar warnings\n",
        "warnings.filterwarnings('ignore')"
      ]
    },
    {
      "cell_type": "markdown",
      "metadata": {
        "id": "VJWF_aIYzj8J"
      },
      "source": [
        "## Predicciones en Spotify (PCA)"
      ]
    },
    {
      "cell_type": "markdown",
      "metadata": {
        "id": "lzzhY_IecIlZ"
      },
      "source": [
        "El conjunto de datos se recolectó utilizando el API de Spotify. La idea es predecir si una canción te va a gustar o no, basándose en tus preferencias musicales.\n",
        "\n",
        "Cada canción cuenta con diversos datos como el nombre, el artista, la duración, y atributos relacionados con la música como la energía, la instrumentalidad, el tempo, que tan bailable es... etc."
      ]
    },
    {
      "cell_type": "code",
      "execution_count": 4,
      "metadata": {
        "cellView": "form",
        "id": "k0SzA-dacNim"
      },
      "outputs": [
        {
          "data": {
            "text/html": [
              "<div>\n",
              "<style scoped>\n",
              "    .dataframe tbody tr th:only-of-type {\n",
              "        vertical-align: middle;\n",
              "    }\n",
              "\n",
              "    .dataframe tbody tr th {\n",
              "        vertical-align: top;\n",
              "    }\n",
              "\n",
              "    .dataframe thead th {\n",
              "        text-align: right;\n",
              "    }\n",
              "</style>\n",
              "<table border=\"1\" class=\"dataframe\">\n",
              "  <thead>\n",
              "    <tr style=\"text-align: right;\">\n",
              "      <th></th>\n",
              "      <th>artist</th>\n",
              "      <th>danceability</th>\n",
              "      <th>energy</th>\n",
              "      <th>key</th>\n",
              "      <th>loudness</th>\n",
              "      <th>mode</th>\n",
              "      <th>speechiness</th>\n",
              "      <th>acousticness</th>\n",
              "      <th>instrumentalness</th>\n",
              "      <th>liveness</th>\n",
              "      <th>valence</th>\n",
              "      <th>tempo</th>\n",
              "      <th>duration_min</th>\n",
              "      <th>time_signature</th>\n",
              "      <th>class</th>\n",
              "    </tr>\n",
              "  </thead>\n",
              "  <tbody>\n",
              "    <tr>\n",
              "      <th>582</th>\n",
              "      <td>Imagine Dragons</td>\n",
              "      <td>0.636</td>\n",
              "      <td>0.718</td>\n",
              "      <td>1</td>\n",
              "      <td>-4.833</td>\n",
              "      <td>0</td>\n",
              "      <td>0.0313</td>\n",
              "      <td>0.00483</td>\n",
              "      <td>0.000007</td>\n",
              "      <td>0.2920</td>\n",
              "      <td>0.437</td>\n",
              "      <td>143.929</td>\n",
              "      <td>3.631189</td>\n",
              "      <td>4</td>\n",
              "      <td>yes</td>\n",
              "    </tr>\n",
              "    <tr>\n",
              "      <th>901</th>\n",
              "      <td>Avril Lavigne</td>\n",
              "      <td>0.582</td>\n",
              "      <td>0.758</td>\n",
              "      <td>5</td>\n",
              "      <td>-5.951</td>\n",
              "      <td>1</td>\n",
              "      <td>0.0464</td>\n",
              "      <td>0.06150</td>\n",
              "      <td>0.000008</td>\n",
              "      <td>0.3090</td>\n",
              "      <td>0.413</td>\n",
              "      <td>77.982</td>\n",
              "      <td>4.075198</td>\n",
              "      <td>4</td>\n",
              "      <td>yes</td>\n",
              "    </tr>\n",
              "    <tr>\n",
              "      <th>907</th>\n",
              "      <td>The Corrs</td>\n",
              "      <td>0.607</td>\n",
              "      <td>0.820</td>\n",
              "      <td>11</td>\n",
              "      <td>-7.754</td>\n",
              "      <td>1</td>\n",
              "      <td>0.0597</td>\n",
              "      <td>0.05410</td>\n",
              "      <td>0.000068</td>\n",
              "      <td>0.2690</td>\n",
              "      <td>0.768</td>\n",
              "      <td>126.988</td>\n",
              "      <td>3.458519</td>\n",
              "      <td>4</td>\n",
              "      <td>yes</td>\n",
              "    </tr>\n",
              "    <tr>\n",
              "      <th>1754</th>\n",
              "      <td>Los Huracanes del Norte</td>\n",
              "      <td>0.546</td>\n",
              "      <td>0.309</td>\n",
              "      <td>3</td>\n",
              "      <td>-17.473</td>\n",
              "      <td>1</td>\n",
              "      <td>0.0892</td>\n",
              "      <td>0.04070</td>\n",
              "      <td>0.000000</td>\n",
              "      <td>0.0651</td>\n",
              "      <td>0.624</td>\n",
              "      <td>157.012</td>\n",
              "      <td>3.361584</td>\n",
              "      <td>3</td>\n",
              "      <td>no</td>\n",
              "    </tr>\n",
              "    <tr>\n",
              "      <th>1464</th>\n",
              "      <td>Tropicalísimo Apache</td>\n",
              "      <td>0.476</td>\n",
              "      <td>0.412</td>\n",
              "      <td>2</td>\n",
              "      <td>-15.205</td>\n",
              "      <td>1</td>\n",
              "      <td>0.0532</td>\n",
              "      <td>0.27200</td>\n",
              "      <td>0.000794</td>\n",
              "      <td>0.1060</td>\n",
              "      <td>0.965</td>\n",
              "      <td>204.429</td>\n",
              "      <td>2.918275</td>\n",
              "      <td>4</td>\n",
              "      <td>no</td>\n",
              "    </tr>\n",
              "  </tbody>\n",
              "</table>\n",
              "</div>"
            ],
            "text/plain": [
              "                       artist  danceability  energy  key  loudness  mode  \\\n",
              "582           Imagine Dragons         0.636   0.718    1    -4.833     0   \n",
              "901             Avril Lavigne         0.582   0.758    5    -5.951     1   \n",
              "907                 The Corrs         0.607   0.820   11    -7.754     1   \n",
              "1754  Los Huracanes del Norte         0.546   0.309    3   -17.473     1   \n",
              "1464     Tropicalísimo Apache         0.476   0.412    2   -15.205     1   \n",
              "\n",
              "      speechiness  acousticness  instrumentalness  liveness  valence    tempo  \\\n",
              "582        0.0313       0.00483          0.000007    0.2920    0.437  143.929   \n",
              "901        0.0464       0.06150          0.000008    0.3090    0.413   77.982   \n",
              "907        0.0597       0.05410          0.000068    0.2690    0.768  126.988   \n",
              "1754       0.0892       0.04070          0.000000    0.0651    0.624  157.012   \n",
              "1464       0.0532       0.27200          0.000794    0.1060    0.965  204.429   \n",
              "\n",
              "      duration_min  time_signature class  \n",
              "582       3.631189               4   yes  \n",
              "901       4.075198               4   yes  \n",
              "907       3.458519               4   yes  \n",
              "1754      3.361584               3    no  \n",
              "1464      2.918275               4    no  "
            ]
          },
          "execution_count": 4,
          "metadata": {},
          "output_type": "execute_result"
        }
      ],
      "source": [
        "#@title Ejecuta el siguiente código para visualizar el conjunto de datos\n",
        "\n",
        "dataset = pd.read_csv('https://raw.githubusercontent.com/miryamelizabeth/datasets/main/spotify_dataset.csv')\n",
        "dataset.drop(['id', 'song_name', 'type1', 'uri', 'track_href', 'analysis_url'], axis=1, inplace=True)\n",
        "dataset.sample(n=5, random_state=42)"
      ]
    },
    {
      "cell_type": "markdown",
      "metadata": {
        "id": "QjkrEu1EmJ-c"
      },
      "source": [
        "**1. Utiliza un `MinMaxScaler` para transformar los datos**"
      ]
    },
    {
      "cell_type": "code",
      "execution_count": 5,
      "metadata": {
        "id": "I_GqsGNckOl_"
      },
      "outputs": [],
      "source": [
        "# Separamos predictores (X)\n",
        "X = dataset.drop(['artist', 'class'], axis=1)\n",
        "\n",
        "# Columnas numéricas\n",
        "num_cols = ['danceability', 'energy', 'key', 'loudness', 'mode', 'speechiness', 'acousticness',\n",
        "            'instrumentalness', 'liveness', 'valence', 'tempo', 'duration_min', 'time_signature']\n",
        "\n",
        "# Paso 1. Crear el transformer\n",
        "transformer = make_column_transformer( (StandardScaler(), num_cols) )\n",
        "transformer.fit(X) \n",
        "\n",
        "# Transformamos los datos\n",
        "X = transformer.transform(X)"
      ]
    },
    {
      "cell_type": "markdown",
      "metadata": {
        "id": "2c54P4rNl3MO"
      },
      "source": [
        "**2. PCA debe capturar el 95% de la varianza de los datos**"
      ]
    },
    {
      "cell_type": "code",
      "execution_count": 6,
      "metadata": {
        "id": "XE3Ic4QrkWAU"
      },
      "outputs": [],
      "source": [
        "# Paso 1. PCA\n",
        "pca = PCA(n_components=0.95)\n",
        "pca.fit(X)\n",
        "\n",
        "# Transformar datos con las nuevas dimensiones\n",
        "X = pca.transform(X)"
      ]
    },
    {
      "cell_type": "markdown",
      "metadata": {
        "id": "m1q9Vi_Atscl"
      },
      "source": [
        "**3. Completa el siguiente código para obtener lo siguiente en c/variable:**\n",
        "- ``variance``: la variabilidad explicada por componente principal.\n",
        "- ``sum_variance``: la variabilidad explicada acumulada.\n",
        "- ``num_componentes``: el número de componentes calculado por PCA."
      ]
    },
    {
      "cell_type": "code",
      "execution_count": 7,
      "metadata": {
        "id": "eqV8heualxEw"
      },
      "outputs": [
        {
          "name": "stdout",
          "output_type": "stream",
          "text": [
            "Variabilidad explicada por componente principal: [0.25119966 0.11245931 0.09525787 0.08339492 0.0790674  0.06973141\n",
            " 0.06825085 0.06466791 0.05743381 0.05241122 0.02983178]\n",
            "\n",
            "Variabilidad explicada acumulada: 0.964\n",
            "\n",
            "Número de componentes obtenidos: 11\n"
          ]
        }
      ],
      "source": [
        "variace = pca.explained_variance_ratio_\n",
        "sum_variance = sum(variace)\n",
        "num_components = pca.n_components_\n",
        "\n",
        "print(f'Variabilidad explicada por componente principal: {variace}\\n')\n",
        "print(f'Variabilidad explicada acumulada: {sum_variance:.3f}\\n')\n",
        "print(f'Número de componentes obtenidos: {num_components}')"
      ]
    },
    {
      "cell_type": "code",
      "execution_count": 8,
      "metadata": {
        "cellView": "form",
        "id": "MrR7G5atlzVb"
      },
      "outputs": [
        {
          "data": {
            "image/png": "[encoded data removed]",
            "text/plain": [
              "<Figure size 432x288 with 1 Axes>"
            ]
          },
          "metadata": {
            "needs_background": "light"
          },
          "output_type": "display_data"
        }
      ],
      "source": [
        "#@title Ejecuta el siguiente código para mostrar la gráfica del acumulado de variabilidad explicada en las nuevas dimensiones\n",
        "plt.plot(range(1, pca.n_components_ + 1), np.cumsum(pca.explained_variance_ratio_))\n",
        "plt.xlabel('Número de componentes')\n",
        "plt.ylabel('Variabilidad explicada acumulada')\n",
        "plt.show()"
      ]
    },
    {
      "cell_type": "markdown",
      "metadata": {
        "id": "LEIVGDsWPc0z"
      },
      "source": [
        "### Preguntas"
      ]
    },
    {
      "cell_type": "markdown",
      "metadata": {
        "id": "1UY1hv7OniV8"
      },
      "source": [
        "1. ¿Aproximadamente cuanta información (porcentaje de varianza %) retienen los dos primeros componentes?\n",
        "2. ¿Cuántos componentes se necesitan para capturar el 95% de información del conjunto de datos?\n",
        "3. De acuerdo con la gráfica que muestra el acumulado de variabilidad, ¿cuántos componentes se necesitarían para capturar aprox 85% de información?"
      ]
    },
    {
      "cell_type": "markdown",
      "metadata": {
        "id": "YLJ2W2m6nlYR"
      },
      "source": [
        "Inserta aquí tus respuestas:\n",
        "\n",
        "1. 36.37%\n",
        "2. 11 componentes\n",
        "3. 9 componentes"
      ]
    },
    {
      "cell_type": "markdown",
      "metadata": {
        "id": "uX9W0F0Unpx-"
      },
      "source": [
        "## Segmentación de mercados (Clustering)"
      ]
    },
    {
      "cell_type": "markdown",
      "metadata": {
        "id": "phltu-AD1RLr"
      },
      "source": [
        "Imagina que eres propietario de un supermercado y, a través de las tarjetas de socio, dispones de algunos datos básicos sobre tus clientes, como la edad, el sexo, los ingresos anuales y la puntuación de gasto.\n",
        "La puntuación de gasto es algo que se asigna al cliente en función de los parámetros definidos, como el comportamiento del cliente y los datos de compra.\n",
        "\n",
        "**Planteamiento del problema**\n",
        "Quieres entender qué tipos de clientes tienes (segmentarlos) para que el equipo de marketing pueda planificar estrategia de ventas."
      ]
    },
    {
      "cell_type": "code",
      "execution_count": 9,
      "metadata": {
        "id": "8E1M0lPVMUwR"
      },
      "outputs": [
        {
          "data": {
            "text/html": [
              "<div>\n",
              "<style scoped>\n",
              "    .dataframe tbody tr th:only-of-type {\n",
              "        vertical-align: middle;\n",
              "    }\n",
              "\n",
              "    .dataframe tbody tr th {\n",
              "        vertical-align: top;\n",
              "    }\n",
              "\n",
              "    .dataframe thead th {\n",
              "        text-align: right;\n",
              "    }\n",
              "</style>\n",
              "<table border=\"1\" class=\"dataframe\">\n",
              "  <thead>\n",
              "    <tr style=\"text-align: right;\">\n",
              "      <th></th>\n",
              "      <th>Gender</th>\n",
              "      <th>Age</th>\n",
              "      <th>Annual Income (k$)</th>\n",
              "      <th>Spending Score (1-100)</th>\n",
              "    </tr>\n",
              "  </thead>\n",
              "  <tbody>\n",
              "    <tr>\n",
              "      <th>0</th>\n",
              "      <td>Male</td>\n",
              "      <td>19</td>\n",
              "      <td>15</td>\n",
              "      <td>39</td>\n",
              "    </tr>\n",
              "    <tr>\n",
              "      <th>1</th>\n",
              "      <td>Male</td>\n",
              "      <td>21</td>\n",
              "      <td>15</td>\n",
              "      <td>81</td>\n",
              "    </tr>\n",
              "    <tr>\n",
              "      <th>2</th>\n",
              "      <td>Female</td>\n",
              "      <td>20</td>\n",
              "      <td>16</td>\n",
              "      <td>6</td>\n",
              "    </tr>\n",
              "    <tr>\n",
              "      <th>3</th>\n",
              "      <td>Female</td>\n",
              "      <td>23</td>\n",
              "      <td>16</td>\n",
              "      <td>77</td>\n",
              "    </tr>\n",
              "    <tr>\n",
              "      <th>4</th>\n",
              "      <td>Female</td>\n",
              "      <td>31</td>\n",
              "      <td>17</td>\n",
              "      <td>40</td>\n",
              "    </tr>\n",
              "  </tbody>\n",
              "</table>\n",
              "</div>"
            ],
            "text/plain": [
              "   Gender  Age  Annual Income (k$)  Spending Score (1-100)\n",
              "0    Male   19                  15                      39\n",
              "1    Male   21                  15                      81\n",
              "2  Female   20                  16                       6\n",
              "3  Female   23                  16                      77\n",
              "4  Female   31                  17                      40"
            ]
          },
          "execution_count": 9,
          "metadata": {},
          "output_type": "execute_result"
        }
      ],
      "source": [
        "dataset = pd.read_csv('https://raw.githubusercontent.com/miryamelizabeth/datasets/main/Datasets%20ML/dataset_customers_segmentation.csv')\n",
        "dataset.head()"
      ]
    },
    {
      "cell_type": "markdown",
      "metadata": {
        "id": "857tv1Grq2_v"
      },
      "source": [
        "**1. Utiliza la instrucción de pandas para describir los datos con las principales estadísticas**\n",
        "\n",
        "\n"
      ]
    },
    {
      "cell_type": "code",
      "execution_count": 10,
      "metadata": {
        "id": "mQBdBiD0qvFe"
      },
      "outputs": [
        {
          "data": {
            "text/html": [
              "<div>\n",
              "<style scoped>\n",
              "    .dataframe tbody tr th:only-of-type {\n",
              "        vertical-align: middle;\n",
              "    }\n",
              "\n",
              "    .dataframe tbody tr th {\n",
              "        vertical-align: top;\n",
              "    }\n",
              "\n",
              "    .dataframe thead th {\n",
              "        text-align: right;\n",
              "    }\n",
              "</style>\n",
              "<table border=\"1\" class=\"dataframe\">\n",
              "  <thead>\n",
              "    <tr style=\"text-align: right;\">\n",
              "      <th></th>\n",
              "      <th>Age</th>\n",
              "      <th>Annual Income (k$)</th>\n",
              "      <th>Spending Score (1-100)</th>\n",
              "    </tr>\n",
              "  </thead>\n",
              "  <tbody>\n",
              "    <tr>\n",
              "      <th>count</th>\n",
              "      <td>200.000000</td>\n",
              "      <td>200.000000</td>\n",
              "      <td>200.000000</td>\n",
              "    </tr>\n",
              "    <tr>\n",
              "      <th>mean</th>\n",
              "      <td>38.850000</td>\n",
              "      <td>60.560000</td>\n",
              "      <td>50.200000</td>\n",
              "    </tr>\n",
              "    <tr>\n",
              "      <th>std</th>\n",
              "      <td>13.969007</td>\n",
              "      <td>26.264721</td>\n",
              "      <td>25.823522</td>\n",
              "    </tr>\n",
              "    <tr>\n",
              "      <th>min</th>\n",
              "      <td>18.000000</td>\n",
              "      <td>15.000000</td>\n",
              "      <td>1.000000</td>\n",
              "    </tr>\n",
              "    <tr>\n",
              "      <th>25%</th>\n",
              "      <td>28.750000</td>\n",
              "      <td>41.500000</td>\n",
              "      <td>34.750000</td>\n",
              "    </tr>\n",
              "    <tr>\n",
              "      <th>50%</th>\n",
              "      <td>36.000000</td>\n",
              "      <td>61.500000</td>\n",
              "      <td>50.000000</td>\n",
              "    </tr>\n",
              "    <tr>\n",
              "      <th>75%</th>\n",
              "      <td>49.000000</td>\n",
              "      <td>78.000000</td>\n",
              "      <td>73.000000</td>\n",
              "    </tr>\n",
              "    <tr>\n",
              "      <th>max</th>\n",
              "      <td>70.000000</td>\n",
              "      <td>137.000000</td>\n",
              "      <td>99.000000</td>\n",
              "    </tr>\n",
              "  </tbody>\n",
              "</table>\n",
              "</div>"
            ],
            "text/plain": [
              "              Age  Annual Income (k$)  Spending Score (1-100)\n",
              "count  200.000000          200.000000              200.000000\n",
              "mean    38.850000           60.560000               50.200000\n",
              "std     13.969007           26.264721               25.823522\n",
              "min     18.000000           15.000000                1.000000\n",
              "25%     28.750000           41.500000               34.750000\n",
              "50%     36.000000           61.500000               50.000000\n",
              "75%     49.000000           78.000000               73.000000\n",
              "max     70.000000          137.000000               99.000000"
            ]
          },
          "execution_count": 10,
          "metadata": {},
          "output_type": "execute_result"
        }
      ],
      "source": [
        "dataset.describe()"
      ]
    },
    {
      "cell_type": "markdown",
      "metadata": {
        "id": "E1T_PE3frgFj"
      },
      "source": [
        "**2. Realiza un `histplot` de la edad de los clientes. Agrega dentro de la función el parámetro `binwidth=11` (esto separa en barras de 10 años aprox, es decir de 18 a 28 años, etc.)**"
      ]
    },
    {
      "cell_type": "code",
      "execution_count": 11,
      "metadata": {
        "id": "Xluo6AOIpn4A"
      },
      "outputs": [
        {
          "data": {
            "image/png": "[encoded data removed]",
            "text/plain": [
              "<Figure size 432x288 with 1 Axes>"
            ]
          },
          "metadata": {
            "needs_background": "light"
          },
          "output_type": "display_data"
        }
      ],
      "source": [
        "sns.histplot(x='Age', binwidth=11, data=dataset)\n",
        "plt.show()"
      ]
    },
    {
      "cell_type": "markdown",
      "metadata": {
        "id": "U2QhW8F_sJZg"
      },
      "source": [
        "**3. Realiza un `histplot` del ingreso anual de los clientes. Agrega dentro de la función el parámetro `bins=6` (esto separa en 6 barras iguales los datos).**"
      ]
    },
    {
      "cell_type": "code",
      "execution_count": 12,
      "metadata": {
        "id": "pCqksbRVp4n6"
      },
      "outputs": [
        {
          "data": {
            "image/png": "[encoded data removed]",
            "text/plain": [
              "<Figure size 432x288 with 1 Axes>"
            ]
          },
          "metadata": {
            "needs_background": "light"
          },
          "output_type": "display_data"
        }
      ],
      "source": [
        "sns.histplot(x='Annual Income (k$)', bins=6, data=dataset)\n",
        "plt.show()"
      ]
    },
    {
      "cell_type": "markdown",
      "metadata": {
        "id": "djreUoiWv_6J"
      },
      "source": [
        "**4. Realiza una gráfica de contar visualizar la distribución del género de los clientes de la tienda.**"
      ]
    },
    {
      "cell_type": "code",
      "execution_count": 13,
      "metadata": {
        "id": "3PhtHw4PwDld"
      },
      "outputs": [
        {
          "data": {
            "image/png": "[encoded data removed]",
            "text/plain": [
              "<Figure size 432x288 with 1 Axes>"
            ]
          },
          "metadata": {
            "needs_background": "light"
          },
          "output_type": "display_data"
        }
      ],
      "source": [
        "sns.histplot(x='Gender', data=dataset)\n",
        "plt.show()"
      ]
    },
    {
      "cell_type": "markdown",
      "metadata": {
        "id": "DYsxbawjxGrv"
      },
      "source": [
        "**5. Realiza un scatterplot del los gastos vs ingreso anual.**"
      ]
    },
    {
      "cell_type": "code",
      "execution_count": 14,
      "metadata": {
        "id": "OHSOG0L2xHNs"
      },
      "outputs": [
        {
          "data": {
            "image/png": "[encoded data removed]",
            "text/plain": [
              "<Figure size 432x288 with 1 Axes>"
            ]
          },
          "metadata": {
            "needs_background": "light"
          },
          "output_type": "display_data"
        }
      ],
      "source": [
        "sns.scatterplot(x='Annual Income (k$)', y='Spending Score (1-100)',hue='Gender', data=dataset)\n",
        "plt.show()"
      ]
    },
    {
      "cell_type": "markdown",
      "metadata": {
        "id": "uPZ0weYrw2PC"
      },
      "source": [
        "**6. Utiliza ``StandardScaler`` para transformar los datos numéricos**"
      ]
    },
    {
      "cell_type": "code",
      "execution_count": 15,
      "metadata": {
        "id": "PTeUL0rywUuT"
      },
      "outputs": [],
      "source": [
        "# Separamos los predictores\n",
        "X = dataset[['Age', 'Annual Income (k$)', 'Spending Score (1-100)']]\n",
        "\n",
        "# TODAS las columnas numéricas se guardan en una lista\n",
        "num_cols = ['Age', 'Annual Income (k$)', 'Spending Score (1-100)']\n",
        "\n",
        "# Paso 1. Reescalamiento de datos\n",
        "transformer = make_column_transformer( (StandardScaler(), num_cols) )\n",
        "transformer.fit(X)\n",
        "\n",
        "# Transforma los datos\n",
        "X = transformer.transform(X)"
      ]
    },
    {
      "cell_type": "markdown",
      "metadata": {
        "id": "ShCHihaYxio1"
      },
      "source": [
        "**7. Agrega la instrucción adecuada para obtener la inercia del modelo**"
      ]
    },
    {
      "cell_type": "code",
      "execution_count": 16,
      "metadata": {
        "id": "cEaQB2lZpGo5"
      },
      "outputs": [
        {
          "data": {
            "image/png": "[encoded data removed]",
            "text/plain": [
              "<Figure size 432x288 with 1 Axes>"
            ]
          },
          "metadata": {
            "needs_background": "light"
          },
          "output_type": "display_data"
        }
      ],
      "source": [
        "distortions = []\n",
        "K = range(1, 10)\n",
        "for k in K:\n",
        "    kmeans = KMeans(n_clusters=k)\n",
        "    kmeans.fit(X)\n",
        "    distortions.append(kmeans.inertia_) # Obtener inercia <------\n",
        "\n",
        "plt.plot(K, distortions, 'bx-')\n",
        "plt.xlabel('k')\n",
        "plt.ylabel('Distortion')\n",
        "plt.title('The Elbow Method showing the optimal k')\n",
        "plt.show()"
      ]
    },
    {
      "cell_type": "markdown",
      "metadata": {
        "id": "LySN0AinxDZO"
      },
      "source": [
        "**8. Completa lo siguiente:**\n",
        "- Paso 1. Utilizando la gráfica anterior determina el número de clusters y agregalo al modelo `KMeans()`.\n",
        "- Paso 2. Obten los centros de los clusters.\n",
        "- Paso 3. Obten las etiquetas de c/instancia (es decir, el cluster al que pertenecen)."
      ]
    },
    {
      "cell_type": "code",
      "execution_count": 17,
      "metadata": {
        "id": "54vbUz95j_7X"
      },
      "outputs": [
        {
          "name": "stdout",
          "output_type": "stream",
          "text": [
            "Centros:\n",
            "[[ 0.70892251 -0.00247545 -0.69939115]\n",
            " [-0.75277339  0.00262858  0.74265245]]\n",
            "\n",
            "Labels: [1 1 0 1 1 1 0 1 0 1 0 1 0 1 0 1 0 1 0 1]...\n"
          ]
        }
      ],
      "source": [
        "# Paso 1. Kmeans\n",
        "kmeans = KMeans(n_clusters=2)\n",
        "kmeans.fit(X)\n",
        "\n",
        "# Paso 2. Centros del agrupamiento\n",
        "centers = kmeans.cluster_centers_\n",
        "print(f'Centros:\\n{centers}\\n')\n",
        "\n",
        "# Paso 3. Etiquetas de c/instancia\n",
        "labels = kmeans.labels_\n",
        "print(f'Labels: {labels[:20]}...')"
      ]
    },
    {
      "cell_type": "markdown",
      "metadata": {
        "id": "d1rgXWebx5nC"
      },
      "source": [
        "**9. Agrega las etiquetas a la nueva columna ``cluster``**"
      ]
    },
    {
      "cell_type": "code",
      "execution_count": 18,
      "metadata": {
        "id": "csOAVFDVpnII"
      },
      "outputs": [
        {
          "data": {
            "text/html": [
              "<div>\n",
              "<style scoped>\n",
              "    .dataframe tbody tr th:only-of-type {\n",
              "        vertical-align: middle;\n",
              "    }\n",
              "\n",
              "    .dataframe tbody tr th {\n",
              "        vertical-align: top;\n",
              "    }\n",
              "\n",
              "    .dataframe thead th {\n",
              "        text-align: right;\n",
              "    }\n",
              "</style>\n",
              "<table border=\"1\" class=\"dataframe\">\n",
              "  <thead>\n",
              "    <tr style=\"text-align: right;\">\n",
              "      <th></th>\n",
              "      <th>Gender</th>\n",
              "      <th>Age</th>\n",
              "      <th>Annual Income (k$)</th>\n",
              "      <th>Spending Score (1-100)</th>\n",
              "      <th>cluster</th>\n",
              "    </tr>\n",
              "  </thead>\n",
              "  <tbody>\n",
              "    <tr>\n",
              "      <th>0</th>\n",
              "      <td>Male</td>\n",
              "      <td>19</td>\n",
              "      <td>15</td>\n",
              "      <td>39</td>\n",
              "      <td>1</td>\n",
              "    </tr>\n",
              "    <tr>\n",
              "      <th>1</th>\n",
              "      <td>Male</td>\n",
              "      <td>21</td>\n",
              "      <td>15</td>\n",
              "      <td>81</td>\n",
              "      <td>1</td>\n",
              "    </tr>\n",
              "    <tr>\n",
              "      <th>2</th>\n",
              "      <td>Female</td>\n",
              "      <td>20</td>\n",
              "      <td>16</td>\n",
              "      <td>6</td>\n",
              "      <td>0</td>\n",
              "    </tr>\n",
              "    <tr>\n",
              "      <th>3</th>\n",
              "      <td>Female</td>\n",
              "      <td>23</td>\n",
              "      <td>16</td>\n",
              "      <td>77</td>\n",
              "      <td>1</td>\n",
              "    </tr>\n",
              "    <tr>\n",
              "      <th>4</th>\n",
              "      <td>Female</td>\n",
              "      <td>31</td>\n",
              "      <td>17</td>\n",
              "      <td>40</td>\n",
              "      <td>1</td>\n",
              "    </tr>\n",
              "  </tbody>\n",
              "</table>\n",
              "</div>"
            ],
            "text/plain": [
              "   Gender  Age  Annual Income (k$)  Spending Score (1-100)  cluster\n",
              "0    Male   19                  15                      39        1\n",
              "1    Male   21                  15                      81        1\n",
              "2  Female   20                  16                       6        0\n",
              "3  Female   23                  16                      77        1\n",
              "4  Female   31                  17                      40        1"
            ]
          },
          "execution_count": 18,
          "metadata": {},
          "output_type": "execute_result"
        }
      ],
      "source": [
        "dataset['cluster'] = labels\n",
        "dataset.head()"
      ]
    },
    {
      "cell_type": "code",
      "execution_count": 19,
      "metadata": {
        "cellView": "form",
        "id": "Fsi-StwJpt4d"
      },
      "outputs": [
        {
          "data": {
            "text/html": [
              "<div>\n",
              "<style scoped>\n",
              "    .dataframe tbody tr th:only-of-type {\n",
              "        vertical-align: middle;\n",
              "    }\n",
              "\n",
              "    .dataframe tbody tr th {\n",
              "        vertical-align: top;\n",
              "    }\n",
              "\n",
              "    .dataframe thead th {\n",
              "        text-align: right;\n",
              "    }\n",
              "</style>\n",
              "<table border=\"1\" class=\"dataframe\">\n",
              "  <thead>\n",
              "    <tr style=\"text-align: right;\">\n",
              "      <th></th>\n",
              "      <th>cluster</th>\n",
              "      <th>elementos(%)</th>\n",
              "    </tr>\n",
              "  </thead>\n",
              "  <tbody>\n",
              "    <tr>\n",
              "      <th>0</th>\n",
              "      <td>0</td>\n",
              "      <td>51.5</td>\n",
              "    </tr>\n",
              "    <tr>\n",
              "      <th>1</th>\n",
              "      <td>1</td>\n",
              "      <td>48.5</td>\n",
              "    </tr>\n",
              "  </tbody>\n",
              "</table>\n",
              "</div>"
            ],
            "text/plain": [
              "   cluster  elementos(%)\n",
              "0        0          51.5\n",
              "1        1          48.5"
            ]
          },
          "execution_count": 19,
          "metadata": {},
          "output_type": "execute_result"
        }
      ],
      "source": [
        "#@title Ejecuta el siguiente código para visualizar la distribución de datos en cada cluster...\n",
        "resultado = dataset['cluster'].value_counts(normalize='True').round(3) * 100\n",
        "resultado.to_frame(name='elementos(%)').reset_index().rename(columns={'index': 'cluster'})"
      ]
    },
    {
      "cell_type": "markdown",
      "metadata": {
        "id": "tnf8n_IBx7z9"
      },
      "source": [
        "**10. Crea un boxplot para visualizar la edad con respecto a los clusters.**"
      ]
    },
    {
      "cell_type": "code",
      "execution_count": 20,
      "metadata": {
        "id": "gZxX7KCYp1ls"
      },
      "outputs": [
        {
          "data": {
            "image/png": "[encoded data removed]",
            "text/plain": [
              "<Figure size 432x288 with 1 Axes>"
            ]
          },
          "metadata": {
            "needs_background": "light"
          },
          "output_type": "display_data"
        }
      ],
      "source": [
        "sns.boxplot(x='cluster', y='Age', data=dataset)\n",
        "plt.show()"
      ]
    },
    {
      "cell_type": "markdown",
      "metadata": {
        "id": "3TUF4bGwx8TA"
      },
      "source": [
        "**11. Agrega la división (hue) utilizando ``cluster`` en el siguiente scatterplot**"
      ]
    },
    {
      "cell_type": "code",
      "execution_count": 21,
      "metadata": {
        "id": "q_GuHoYIqGBn"
      },
      "outputs": [
        {
          "data": {
            "image/png": "[encoded data removed]",
            "text/plain": [
              "<Figure size 432x288 with 1 Axes>"
            ]
          },
          "metadata": {
            "needs_background": "light"
          },
          "output_type": "display_data"
        }
      ],
      "source": [
        "sns.scatterplot(x='Annual Income (k$)', y='Spending Score (1-100)', hue='cluster', data=dataset)\n",
        "plt.show()"
      ]
    },
    {
      "cell_type": "code",
      "execution_count": 22,
      "metadata": {
        "cellView": "form",
        "id": "Oz9yNYLxqrHg"
      },
      "outputs": [
        {
          "data": {
            "image/png": "[encoded data removed]",
            "text/plain": [
              "<Figure size 432x288 with 1 Axes>"
            ]
          },
          "metadata": {
            "needs_background": "light"
          },
          "output_type": "display_data"
        }
      ],
      "source": [
        "#@title Ejecuta el siguiente código para visualizar con PCA los clusters obtenidos\n",
        "# Creamos objeto PCA, enviamos el número de componentes a obtener (número de atributos/dimensiones)\n",
        "pca = PCA(n_components=2)\n",
        "pca.fit(X)\n",
        "\n",
        "# Convertimos nuestros datos y los centros a las nuevas dimensiones de PCA\n",
        "X_pca = pca.transform(X)\n",
        "pca_centers = pca.transform(centers)\n",
        "\n",
        "pca_df = pd.DataFrame(data=X_pca, columns=['PC1', 'PC2'])\n",
        "pca_df['cluster'] = labels\n",
        "pca_df.head()\n",
        "\n",
        "color_list = kmeans.n_clusters * ['black']\n",
        "\n",
        "plt.scatter(pca_df['PC1'], pca_df['PC2'], c=pca_df['cluster'], cmap=plt.cm.Set1)\n",
        "plt.scatter(pca_centers[:, 0], pca_centers[:, 1], c=color_list, marker='*', s=500)\n",
        "plt.show()"
      ]
    },
    {
      "cell_type": "code",
      "execution_count": 23,
      "metadata": {},
      "outputs": [
        {
          "data": {
            "text/plain": [
              "<bound method NDFrame._add_numeric_operations.<locals>.min of 0      19\n",
              "1      21\n",
              "2      20\n",
              "3      23\n",
              "4      31\n",
              "       ..\n",
              "195    35\n",
              "196    45\n",
              "197    32\n",
              "198    32\n",
              "199    30\n",
              "Name: Age, Length: 200, dtype: int64>"
            ]
          },
          "execution_count": 23,
          "metadata": {},
          "output_type": "execute_result"
        }
      ],
      "source": [
        "dataset['Age'].min"
      ]
    },
    {
      "cell_type": "markdown",
      "metadata": {
        "id": "pI5Kjpvx1k9e"
      },
      "source": [
        "### Preguntas"
      ]
    },
    {
      "cell_type": "markdown",
      "metadata": {
        "id": "6wx1hlREtbxx"
      },
      "source": [
        "1. ¿Entre que rangos de edad se encuentran la mayoría de los clientes? \n",
        "2. ¿Qué edad tienen los clientes más jóvenes?\n",
        "3. ¿Cuáles son los ingresos anuales de la mayoría de los clientes?\n",
        "4. ¿Cuál es el máximo de ingresos que tienen los clientes?\n",
        "5. Hay más mujeres que hombres de clientes en la tienda. ¿Verdadero o Falso?\n",
        "6. De acuerdo con la gráfica de Elbow Method, ¿cuántos clusters hay?\n",
        "7. ¿Qué tan equilibrada está la distribución de datos en cada cluster?\n",
        "8. ¿Cuál es la mediana de edad para cada cluster?\n",
        "9. De acuerdo con la gráfica del punto 11, el spending score del cluster 1 se encuentra arriba (aprox) de cuál valor."
      ]
    },
    {
      "cell_type": "markdown",
      "metadata": {},
      "source": [
        "1. **Entre 30 - 40**\n",
        "2. **18 años aproximado**\n",
        "3. **Entre 57k - 77k aproximadamente**\n",
        "4. **135k aproximadamente**\n",
        "5. **Verdadero**\n",
        "6. **9**\n",
        "7. **Aproximadamente cada cluster tiene la mitad de los datos (51.5% y 48.5%)**\n",
        "8. **El cluster 0 tiene una mediana de aprox. 48 años y el cluster 1 aprox. 30 años**\n",
        "9. **En mi caso, parece ser que el spending score sale arriba de 25 puntos**"
      ]
    },
    {
      "cell_type": "markdown",
      "metadata": {
        "id": "Z_2okQTfiy-d"
      },
      "source": [
        "\n",
        "---\n",
        "\n",
        "\n",
        "📝 **Referencias**\n",
        "\n",
        "*Dataset obtenido de Kaggle repository:* [Customer segmentation](https://www.kaggle.com/vjchoudhary7/customer-segmentation-tutorial-in-python)."
      ]
    }
  ],
  "metadata": {
    "colab": {
      "provenance": []
    },
    "kernelspec": {
      "display_name": "Python 3.9.7 ('base')",
      "language": "python",
      "name": "python3"
    },
    "language_info": {
      "codemirror_mode": {
        "name": "ipython",
        "version": 3
      },
      "file_extension": ".py",
      "mimetype": "text/x-python",
      "name": "python",
      "nbconvert_exporter": "python",
      "pygments_lexer": "ipython3",
      "version": "3.9.7"
    },
    "vscode": {
      "interpreter": {
        "hash": "e4983ef1541e43841f9e934630005c5670a77666a511d6fa2b0487a6871a7991"
      }
    }
  },
  "nbformat": 4,
  "nbformat_minor": 0
}
